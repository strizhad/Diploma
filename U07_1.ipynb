{
  "nbformat": 4,
  "nbformat_minor": 0,
  "metadata": {
    "kernelspec": {
      "display_name": "Python 3",
      "language": "python",
      "name": "python3"
    },
    "language_info": {
      "codemirror_mode": {
        "name": "ipython",
        "version": 3
      },
      "file_extension": ".py",
      "mimetype": "text/x-python",
      "name": "python",
      "nbconvert_exporter": "python",
      "pygments_lexer": "ipython3",
      "version": "3.8.5"
    },
    "colab": {
      "name": "U07.1.ipynb",
      "provenance": [],
      "collapsed_sections": []
    }
  },
  "cells": [
    {
      "cell_type": "code",
      "metadata": {
        "colab": {
          "base_uri": "https://localhost:8080/"
        },
        "id": "KlmJqv2QQCd4",
        "outputId": "82a90a93-d98f-41a3-a445-1b716ef3f057"
      },
      "source": [
        "from google.colab import drive\n",
        "drive.mount('/content/drive')"
      ],
      "execution_count": null,
      "outputs": [
        {
          "output_type": "stream",
          "text": [
            "Mounted at /content/drive\n"
          ],
          "name": "stdout"
        }
      ]
    },
    {
      "cell_type": "code",
      "metadata": {
        "id": "AzLi2BQdVnLm"
      },
      "source": [
        "import pandas as pd\n",
        "import numpy as np\n",
        "import matplotlib.pyplot as plt\n",
        "import os\n",
        "from datetime import datetime, timedelta\n",
        "import seaborn as sn\n",
        "import time"
      ],
      "execution_count": null,
      "outputs": []
    },
    {
      "cell_type": "code",
      "metadata": {
        "id": "2gV4hxtqVnLn"
      },
      "source": [
        "df = pd.read_csv('/content/drive/MyDrive/Диплом/data_for_science (1).csv', sep=';')"
      ],
      "execution_count": null,
      "outputs": []
    },
    {
      "cell_type": "code",
      "metadata": {
        "colab": {
          "base_uri": "https://localhost:8080/"
        },
        "id": "pwrwB_bxTpnt",
        "outputId": "059e6746-329b-468d-8498-a48356b779b4"
      },
      "source": [
        "df['idx'].unique().shape"
      ],
      "execution_count": null,
      "outputs": [
        {
          "output_type": "execute_result",
          "data": {
            "text/plain": [
              "(1125982,)"
            ]
          },
          "metadata": {
            "tags": []
          },
          "execution_count": 5
        }
      ]
    },
    {
      "cell_type": "code",
      "metadata": {
        "id": "SnF9MSecBEHF"
      },
      "source": [
        "# Drop all incorrect get_date_at formats\n",
        "df = df[df['get_date_at'].apply(lambda x: x[0]) == '2']"
      ],
      "execution_count": null,
      "outputs": []
    },
    {
      "cell_type": "code",
      "metadata": {
        "id": "teC1VkgOmnTX"
      },
      "source": [
        "df['get_date_at'] = pd.to_datetime(df['get_date_at'])"
      ],
      "execution_count": null,
      "outputs": []
    },
    {
      "cell_type": "code",
      "metadata": {
        "id": "piIh8grGELJ3"
      },
      "source": [
        "df['dis_year'] = pd.to_datetime(df['get_date_at']).dt.year\n",
        "df = df[df['dis_year'] >= 2020]\n",
        "df = df[df['get_date_at'].dt.month >= 4]\n",
        "df = df.sort_values('get_date_at')"
      ],
      "execution_count": null,
      "outputs": []
    },
    {
      "cell_type": "code",
      "metadata": {
        "colab": {
          "base_uri": "https://localhost:8080/"
        },
        "id": "M_hj1_0GpK-r",
        "outputId": "3fd37269-3f8f-4137-c2dc-f52a4dae9ee2"
      },
      "source": [
        "df[df['mkb10_code'] == 'U07.1']['idx'].unique().shape"
      ],
      "execution_count": null,
      "outputs": [
        {
          "output_type": "execute_result",
          "data": {
            "text/plain": [
              "(56006,)"
            ]
          },
          "metadata": {
            "tags": []
          },
          "execution_count": 11
        }
      ]
    },
    {
      "cell_type": "code",
      "metadata": {
        "id": "W_KIwkls2Ue5"
      },
      "source": [
        "# Create a zero-filled 'test_day' column\n",
        "df['test_day'] = np.zeros(df.shape[0]).astype(int)"
      ],
      "execution_count": null,
      "outputs": []
    },
    {
      "cell_type": "code",
      "metadata": {
        "id": "uD7wFkF90ZYW"
      },
      "source": [
        "# Drop all records that belongs to patients with only one record\n",
        "df = df[df['idx'].isin(df['idx'].value_counts()[df['idx'].value_counts() != 1].index)].reset_index().drop(['index'], 1)"
      ],
      "execution_count": null,
      "outputs": []
    },
    {
      "cell_type": "code",
      "metadata": {
        "id": "7E-yS4Qhz4-H"
      },
      "source": [
        "# Adding a IgM_target vector that contains True if test IgM > 1, False otherwise\n",
        "df['IgM_target'] = df['IgM'] > 1"
      ],
      "execution_count": null,
      "outputs": []
    },
    {
      "cell_type": "code",
      "metadata": {
        "id": "lRIDEa8nz7Qf"
      },
      "source": [
        "# Adding a IgG_target vector that contains True if test IgG > 10, False otherwise\n",
        "df['IgG_target'] = df['IgG'] > 10"
      ],
      "execution_count": null,
      "outputs": []
    },
    {
      "cell_type": "code",
      "metadata": {
        "id": "P3ja9uE0mSNv"
      },
      "source": [
        "# Drop records whos' idx user don't have IgG > 10 anytime\n",
        "df = df[df['idx'].isin(df.groupby(['idx']).sum()[df.groupby(['idx']).sum()['IgG_target'] > 0].reset_index()['idx'])]"
      ],
      "execution_count": null,
      "outputs": []
    },
    {
      "cell_type": "code",
      "metadata": {
        "id": "yYDogUHBqwtx"
      },
      "source": [
        "people = pd.DataFrame(np.array([df['idx'].unique().astype(int), np.zeros(df['idx'].unique().size).astype(int)]).T, columns=['idx', 'day_number'])"
      ],
      "execution_count": null,
      "outputs": []
    },
    {
      "cell_type": "code",
      "metadata": {
        "id": "qL4P8-OESe7f"
      },
      "source": [
        "def SetTestNumber(idx):\n",
        "    x = df[df['idx'] == idx]\n",
        "    return (min(x[x['IgG_target']]['get_date_at']) - min(np.hstack((x[x['IgG_target']]['get_date_at'], x[x['IgM_target']]['get_date_at'])))).days\n",
        "\n",
        "VSetTestNumber = np.vectorize(SetTestNumber)"
      ],
      "execution_count": null,
      "outputs": []
    },
    {
      "cell_type": "code",
      "metadata": {
        "id": "QTKYYQPflOpo"
      },
      "source": [
        "people['day_number'] = VSetTestNumber(people['idx'])"
      ],
      "execution_count": null,
      "outputs": []
    },
    {
      "cell_type": "code",
      "metadata": {
        "id": "gP6ykRmUv2g5"
      },
      "source": [
        "#plt.hist(people['day_number'], bins=max(people['day_number']))"
      ],
      "execution_count": null,
      "outputs": []
    },
    {
      "cell_type": "code",
      "metadata": {
        "id": "PvX9Jq0Wv_bH"
      },
      "source": [
        "people.to_excel('/content/drive/MyDrive/Диплом/Immun.xlsx')"
      ],
      "execution_count": null,
      "outputs": []
    },
    {
      "cell_type": "markdown",
      "metadata": {
        "id": "wxgs3X26KdyU"
      },
      "source": [
        "Выделяем тех, у кого IgM >1, подтвержденный ковид\n"
      ]
    },
    {
      "cell_type": "code",
      "metadata": {
        "id": "IUAPAqMZKmqO"
      },
      "source": [
        "df = pd.read_csv('/content/drive/MyDrive/Диплом/data_for_science (1).csv', sep=';')"
      ],
      "execution_count": null,
      "outputs": []
    },
    {
      "cell_type": "code",
      "metadata": {
        "id": "0uBpuOY4KsGF"
      },
      "source": [
        "df = df[(df['mkb10_code'] == 'U07.1')]"
      ],
      "execution_count": null,
      "outputs": []
    },
    {
      "cell_type": "code",
      "metadata": {
        "id": "M1dM4cKxKucj"
      },
      "source": [
        "df = df[df['IgM'] > 1] "
      ],
      "execution_count": null,
      "outputs": []
    },
    {
      "cell_type": "code",
      "metadata": {
        "id": "_Y8GXQDe8ZnU"
      },
      "source": [
        "Acute_illness = df['idx'].unique()"
      ],
      "execution_count": null,
      "outputs": []
    },
    {
      "cell_type": "code",
      "metadata": {
        "colab": {
          "base_uri": "https://localhost:8080/"
        },
        "id": "xNvekRyYBgQw",
        "outputId": "8968767f-046c-4920-c1fb-3fd879dad50e"
      },
      "source": [
        "Acute_illness.shape"
      ],
      "execution_count": null,
      "outputs": [
        {
          "output_type": "execute_result",
          "data": {
            "text/plain": [
              "(6030,)"
            ]
          },
          "metadata": {
            "tags": []
          },
          "execution_count": 25
        }
      ]
    },
    {
      "cell_type": "code",
      "metadata": {
        "id": "h7PrlqYJL4MZ"
      },
      "source": [
        "pd.DataFrame(Acute_illness, columns=['idx']).to_excel('/content/drive/MyDrive/Диплом/Acute_illness.xlsx')"
      ],
      "execution_count": null,
      "outputs": []
    },
    {
      "cell_type": "markdown",
      "metadata": {
        "id": "-kQy6E4bMISe"
      },
      "source": [
        "Выделяем тех, у кого имунная память"
      ]
    },
    {
      "cell_type": "code",
      "metadata": {
        "id": "NemO0dIPNUKt"
      },
      "source": [
        "df = pd.read_csv('/content/drive/MyDrive/Диплом/data_for_science (1).csv', sep=';')"
      ],
      "execution_count": null,
      "outputs": []
    },
    {
      "cell_type": "code",
      "metadata": {
        "id": "GxYQLl_uNXjU"
      },
      "source": [
        "df = df[(df['mkb10_code'] == 'U07.1')]"
      ],
      "execution_count": null,
      "outputs": []
    },
    {
      "cell_type": "code",
      "metadata": {
        "id": "b2JJJ35l85XC"
      },
      "source": [
        "df = df[df['idx'].isin(Acute_illness)]"
      ],
      "execution_count": null,
      "outputs": []
    },
    {
      "cell_type": "code",
      "metadata": {
        "id": "RoC5Lw5vNbNI"
      },
      "source": [
        "df = df[(df['IgG']>10) & (df['IgM'] < 1)] "
      ],
      "execution_count": null,
      "outputs": []
    },
    {
      "cell_type": "code",
      "metadata": {
        "id": "lgNV-1fR95vV"
      },
      "source": [
        "Immun_memory = df['idx'].unique()"
      ],
      "execution_count": null,
      "outputs": []
    },
    {
      "cell_type": "code",
      "metadata": {
        "id": "1ip2hsP8N7aJ"
      },
      "source": [
        "pd.DataFrame(Immun_memory, columns=['idx']).to_excel('/content/drive/MyDrive/Диплом/Immun_memory.xlsx')"
      ],
      "execution_count": null,
      "outputs": []
    },
    {
      "cell_type": "code",
      "metadata": {
        "colab": {
          "base_uri": "https://localhost:8080/"
        },
        "id": "uVXl2_t6Bnw8",
        "outputId": "3d907cb6-3cb7-4b28-d890-4625f5df68d2"
      },
      "source": [
        "Immun_memory.shape"
      ],
      "execution_count": null,
      "outputs": [
        {
          "output_type": "execute_result",
          "data": {
            "text/plain": [
              "(188,)"
            ]
          },
          "metadata": {
            "tags": []
          },
          "execution_count": 33
        }
      ]
    },
    {
      "cell_type": "markdown",
      "metadata": {
        "id": "6AdBibdc_X48"
      },
      "source": [
        "Нет иммунной памяти после перенесенного заболевания"
      ]
    },
    {
      "cell_type": "code",
      "metadata": {
        "id": "YgalFcr8_eTh"
      },
      "source": [
        "df = pd.read_csv('/content/drive/MyDrive/Диплом/data_for_science (1).csv', sep=';')"
      ],
      "execution_count": null,
      "outputs": []
    },
    {
      "cell_type": "code",
      "metadata": {
        "id": "rabDeH7w_k8J"
      },
      "source": [
        "df = df[(df['mkb10_code'] == 'U07.1')]"
      ],
      "execution_count": null,
      "outputs": []
    },
    {
      "cell_type": "code",
      "metadata": {
        "id": "6TnGYfsY_nnY"
      },
      "source": [
        "df = df[df['idx'].isin(Acute_illness)]"
      ],
      "execution_count": null,
      "outputs": []
    },
    {
      "cell_type": "code",
      "metadata": {
        "id": "gntB0AdI_xsm"
      },
      "source": [
        "df = df[~df['idx'].isin(Immun_memory)]"
      ],
      "execution_count": null,
      "outputs": []
    },
    {
      "cell_type": "code",
      "metadata": {
        "colab": {
          "base_uri": "https://localhost:8080/"
        },
        "id": "AyjXKo8ADzDV",
        "outputId": "b6c1e649-5c17-40df-da17-239eee987285"
      },
      "source": [
        "df['idx'].unique().shape"
      ],
      "execution_count": null,
      "outputs": [
        {
          "output_type": "execute_result",
          "data": {
            "text/plain": [
              "(5842,)"
            ]
          },
          "metadata": {
            "tags": []
          },
          "execution_count": 38
        }
      ]
    },
    {
      "cell_type": "code",
      "metadata": {
        "id": "wQycDRc5_8jt"
      },
      "source": [
        "No_immun_memory = df[(df['IgG'] < 10) & (df['IgM']  < 1)]['idx'].unique()\n",
        "Lost = df['idx'].unique()[~np.isin(df['idx'].unique(), No_immun_memory)]"
      ],
      "execution_count": null,
      "outputs": []
    },
    {
      "cell_type": "code",
      "metadata": {
        "colab": {
          "base_uri": "https://localhost:8080/"
        },
        "id": "HbVc8_hkBCQG",
        "outputId": "af17fb6d-63bc-47f8-c296-94a325f2e1d4"
      },
      "source": [
        "No_immun_memory.shape, Lost.shape, Acute_illness.shape"
      ],
      "execution_count": null,
      "outputs": [
        {
          "output_type": "execute_result",
          "data": {
            "text/plain": [
              "((200,), (5642,), (6030,))"
            ]
          },
          "metadata": {
            "tags": []
          },
          "execution_count": 40
        }
      ]
    },
    {
      "cell_type": "code",
      "metadata": {
        "id": "mOBUozTWFsKd"
      },
      "source": [
        "pd.DataFrame(No_immun_memory, columns=['idx']).to_excel('/content/drive/MyDrive/Диплом/No_immun_memory.xlsx')\n",
        "pd.DataFrame(Lost, columns=['idx']).to_excel('/content/drive/MyDrive/Диплом/Lost.xlsx')"
      ],
      "execution_count": null,
      "outputs": []
    },
    {
      "cell_type": "markdown",
      "metadata": {
        "id": "PrCRYAuEmTj_"
      },
      "source": [
        "Выделяем только тех, у кого был контакт, начиная с 13 мая"
      ]
    },
    {
      "cell_type": "code",
      "metadata": {
        "id": "SphqzkrLfocu"
      },
      "source": [
        "df = pd.read_csv('/content/drive/MyDrive/Диплом/data_for_science (1).csv', sep=';')"
      ],
      "execution_count": null,
      "outputs": []
    },
    {
      "cell_type": "code",
      "metadata": {
        "id": "BPzArE9_mcAD"
      },
      "source": [
        "df = df[(df['mkb10_code'] == 'Z20.8') & (df['dis_date'] >= '2020-05-13')]"
      ],
      "execution_count": null,
      "outputs": []
    },
    {
      "cell_type": "code",
      "metadata": {
        "colab": {
          "base_uri": "https://localhost:8080/"
        },
        "id": "I9TJHQEI1UKx",
        "outputId": "45c45201-0091-45fb-c2bb-2aea19f6e7f0"
      },
      "source": [
        "df['idx'].unique().shape"
      ],
      "execution_count": null,
      "outputs": [
        {
          "output_type": "execute_result",
          "data": {
            "text/plain": [
              "(194115,)"
            ]
          },
          "metadata": {
            "tags": []
          },
          "execution_count": 44
        }
      ]
    },
    {
      "cell_type": "code",
      "metadata": {
        "id": "nGad2SFC2tB4"
      },
      "source": [
        "Contact = df['idx'].unique()"
      ],
      "execution_count": null,
      "outputs": []
    },
    {
      "cell_type": "code",
      "metadata": {
        "id": "-vXnM1dcmqfy"
      },
      "source": [
        "pd.DataFrame(df['idx'].unique(), columns=['idx']).to_excel('/content/drive/MyDrive/Диплом/Contact.xlsx')"
      ],
      "execution_count": null,
      "outputs": []
    },
    {
      "cell_type": "markdown",
      "metadata": {
        "id": "AuD9C3lVn15F"
      },
      "source": [
        "\n",
        "Выделяем только тех, у кого подтвержденный ковид"
      ]
    },
    {
      "cell_type": "code",
      "metadata": {
        "id": "kvz22Lqdmz7S"
      },
      "source": [
        "df = pd.read_csv('/content/drive/MyDrive/Диплом/data_for_science (1).csv', sep=';')"
      ],
      "execution_count": null,
      "outputs": []
    },
    {
      "cell_type": "code",
      "metadata": {
        "id": "PrJMya252njE"
      },
      "source": [
        "df = df[df['idx'].isin(Contact)]"
      ],
      "execution_count": null,
      "outputs": []
    },
    {
      "cell_type": "code",
      "metadata": {
        "id": "h59tVOG4n-SC"
      },
      "source": [
        "df = df[(df['mkb10_code'] == 'U07.1') & (df['dis_date'] >= '2020-05-13')]"
      ],
      "execution_count": null,
      "outputs": []
    },
    {
      "cell_type": "code",
      "metadata": {
        "colab": {
          "base_uri": "https://localhost:8080/"
        },
        "id": "kDiclzlt3at0",
        "outputId": "584d2945-be23-4385-c3dc-e749b83b17a8"
      },
      "source": [
        "df.shape"
      ],
      "execution_count": null,
      "outputs": [
        {
          "output_type": "execute_result",
          "data": {
            "text/plain": [
              "(23162, 17)"
            ]
          },
          "metadata": {
            "tags": []
          },
          "execution_count": 50
        }
      ]
    },
    {
      "cell_type": "code",
      "metadata": {
        "id": "q7ePVRG7oG12"
      },
      "source": [
        "pd.DataFrame(df['idx'].unique(), columns=['idx']).to_excel('/content/drive/MyDrive/Диплом/Illness.xlsx')"
      ],
      "execution_count": null,
      "outputs": []
    },
    {
      "cell_type": "code",
      "metadata": {
        "id": "m0gLF1-ZoMHZ"
      },
      "source": [
        "Illness = df['idx'].unique()"
      ],
      "execution_count": null,
      "outputs": []
    },
    {
      "cell_type": "code",
      "metadata": {
        "colab": {
          "base_uri": "https://localhost:8080/"
        },
        "id": "zJkDX1Po5573",
        "outputId": "1d217135-ae3a-4962-be2b-dd3aa8cb3a39"
      },
      "source": [
        "Illness"
      ],
      "execution_count": null,
      "outputs": [
        {
          "output_type": "execute_result",
          "data": {
            "text/plain": [
              "array([    223,     283,     314, ..., 1266087, 1267563, 1268384])"
            ]
          },
          "metadata": {
            "tags": []
          },
          "execution_count": 53
        }
      ]
    },
    {
      "cell_type": "markdown",
      "metadata": {
        "id": "OhBbgNSE5IER"
      },
      "source": [
        "Acute_illness, все из списка Illness, у кого есть IgM > 1"
      ]
    },
    {
      "cell_type": "code",
      "metadata": {
        "id": "C2Zdo8j35Ftv"
      },
      "source": [
        "df = pd.read_csv('/content/drive/MyDrive/Диплом/data_for_science (1).csv', sep=';')"
      ],
      "execution_count": null,
      "outputs": []
    },
    {
      "cell_type": "code",
      "metadata": {
        "id": "kYW5gLic5hRr"
      },
      "source": [
        "df = df[df['idx'].isin(Illness)]"
      ],
      "execution_count": null,
      "outputs": []
    },
    {
      "cell_type": "code",
      "metadata": {
        "id": "e-IhVDuA5n2j"
      },
      "source": [
        "df = df[df['IgM'] > 1] "
      ],
      "execution_count": null,
      "outputs": []
    },
    {
      "cell_type": "code",
      "metadata": {
        "id": "Y7NT0Cgx6Ex0"
      },
      "source": [
        "df = df[(df['mkb10_code'] == 'U07.1')]"
      ],
      "execution_count": null,
      "outputs": []
    },
    {
      "cell_type": "code",
      "metadata": {
        "id": "z9D_uIb26LJY"
      },
      "source": [
        "pd.DataFrame(df['idx'].unique(), columns=['idx']).to_excel('/content/drive/MyDrive/Диплом/Acute_illness.xlsx')"
      ],
      "execution_count": null,
      "outputs": []
    },
    {
      "cell_type": "code",
      "metadata": {
        "id": "gFlMTxlu6YIt"
      },
      "source": [
        "Acute_illness =  df['idx'].unique()"
      ],
      "execution_count": null,
      "outputs": []
    },
    {
      "cell_type": "markdown",
      "metadata": {
        "id": "OnS_l_aU6ud-"
      },
      "source": [
        "Immun_memory, все из списка Acute_illness, у кого тест на имунную память позже положителен, чем на острую инфекцию"
      ]
    },
    {
      "cell_type": "code",
      "metadata": {
        "id": "uhc2CTQJ6i0i"
      },
      "source": [
        "df = pd.read_csv('/content/drive/MyDrive/Диплом/data_for_science (1).csv', sep=';')"
      ],
      "execution_count": null,
      "outputs": []
    },
    {
      "cell_type": "code",
      "metadata": {
        "id": "9-zufAdv7IsN"
      },
      "source": [
        "df = df[df['idx'].isin(Acute_illness)]"
      ],
      "execution_count": null,
      "outputs": []
    },
    {
      "cell_type": "code",
      "metadata": {
        "id": "EWrv0zJ-7Q6O"
      },
      "source": [
        "df = df[(df['mkb10_code'] == 'U07.1')]"
      ],
      "execution_count": null,
      "outputs": []
    },
    {
      "cell_type": "code",
      "metadata": {
        "id": "11bZmXTP8ytd"
      },
      "source": [
        "Immun_memory = pd.DataFrame(Acute_illness, columns=['idx'])"
      ],
      "execution_count": null,
      "outputs": []
    },
    {
      "cell_type": "code",
      "metadata": {
        "id": "u0I7bcPIJwK4"
      },
      "source": [
        "def ImmGM ( idx ):\n",
        "  return min(np.hstack([df[(df['idx'] == idx) & (df['IgM'] < 1) & (df['IgG'] > 10)]['get_date_at'], '2050-01-01']))"
      ],
      "execution_count": null,
      "outputs": []
    },
    {
      "cell_type": "code",
      "metadata": {
        "id": "c0Keo920HaiO"
      },
      "source": [
        "def ImmM ( idx ):\n",
        "  return min(df[(df['idx'] == idx) & (df['IgM'] > 1)]['get_date_at'])\n"
      ],
      "execution_count": null,
      "outputs": []
    },
    {
      "cell_type": "code",
      "metadata": {
        "colab": {
          "base_uri": "https://localhost:8080/"
        },
        "id": "anscug23RGmi",
        "outputId": "444c8e28-794a-4424-f90b-d48c2929bc5e"
      },
      "source": [
        "np.vectorize(ImmM)(Immun_memory['idx'])"
      ],
      "execution_count": null,
      "outputs": [
        {
          "output_type": "execute_result",
          "data": {
            "text/plain": [
              "array(['2020-06-25', '2020-05-21', '2020-06-05', ..., '2020-07-02',\n",
              "       '2020-07-02', '2020-07-03'], dtype='<U10')"
            ]
          },
          "metadata": {
            "tags": []
          },
          "execution_count": 68
        }
      ]
    },
    {
      "cell_type": "code",
      "metadata": {
        "id": "egPmZHGs9iMQ"
      },
      "source": [
        "#Когда тест IgM был > 1\n",
        "Immun_memory['test_day_M'] = np.vectorize(ImmM)(Immun_memory['idx'])"
      ],
      "execution_count": null,
      "outputs": []
    },
    {
      "cell_type": "code",
      "metadata": {
        "id": "oXvBUXCi9-6A"
      },
      "source": [
        "#Когда тест IgM < 1 & IgG > 10\n",
        "Immun_memory['test_day_G_M'] = np.vectorize(ImmGM)(Immun_memory['idx'])"
      ],
      "execution_count": null,
      "outputs": []
    },
    {
      "cell_type": "code",
      "metadata": {
        "id": "FFwVC_bdKymg"
      },
      "source": [
        "Immun_memory = Immun_memory[Immun_memory['test_day_G_M'] != '2050-01-01']"
      ],
      "execution_count": null,
      "outputs": []
    },
    {
      "cell_type": "code",
      "metadata": {
        "id": "uQEHOFNASBKi"
      },
      "source": [
        "Immun_memory = Immun_memory[Immun_memory['test_day_G_M'] > Immun_memory['test_day_M']]\n",
        "#Immun_memory"
      ],
      "execution_count": null,
      "outputs": []
    },
    {
      "cell_type": "code",
      "metadata": {
        "id": "4_Vxnff_SbjC"
      },
      "source": [
        "pd.DataFrame(Immun_memory['idx'].unique(), columns=['idx']).to_excel('/content/drive/MyDrive/Диплом/Immun_memory.xlsx')"
      ],
      "execution_count": null,
      "outputs": []
    },
    {
      "cell_type": "code",
      "metadata": {
        "colab": {
          "base_uri": "https://localhost:8080/"
        },
        "id": "7tmKQBde9LzQ",
        "outputId": "3acce9d5-92c8-4f1e-edb5-9ef0578ebb04"
      },
      "source": [
        "Immun_memory['idx'].unique().shape"
      ],
      "execution_count": null,
      "outputs": [
        {
          "output_type": "execute_result",
          "data": {
            "text/plain": [
              "(32,)"
            ]
          },
          "metadata": {
            "tags": []
          },
          "execution_count": 74
        }
      ]
    },
    {
      "cell_type": "markdown",
      "metadata": {
        "id": "3bo2ysuxtf7v"
      },
      "source": [
        "No_immun_memory, нет иммунной памяти после перенесенного заболевания\n",
        " *(второй или теретий диагноз  IgM<1, IgG<10)*"
      ]
    },
    {
      "cell_type": "code",
      "metadata": {
        "id": "lEfdSZxZuqIK"
      },
      "source": [
        "df = pd.read_csv('/content/drive/MyDrive/Диплом/data_for_science (1).csv', sep=';')"
      ],
      "execution_count": null,
      "outputs": []
    },
    {
      "cell_type": "code",
      "metadata": {
        "id": "jiXGNgHsuwEX"
      },
      "source": [
        "df = df[df['idx'].isin(Acute_illness)]"
      ],
      "execution_count": null,
      "outputs": []
    },
    {
      "cell_type": "code",
      "metadata": {
        "id": "VP1SGbpnvqUK"
      },
      "source": [
        "df = df[(df['mkb10_code'] == 'U07.1')]"
      ],
      "execution_count": null,
      "outputs": []
    },
    {
      "cell_type": "code",
      "metadata": {
        "id": "zVYNCyma3Kev"
      },
      "source": [
        "def ImmM ( idx ):\n",
        "  return min(df[(df['idx'] == idx) & (df['IgM'] > 1)]['get_date_at'])\n"
      ],
      "execution_count": null,
      "outputs": []
    },
    {
      "cell_type": "code",
      "metadata": {
        "colab": {
          "base_uri": "https://localhost:8080/"
        },
        "id": "NaANe3443Kew",
        "outputId": "46d09198-cae8-4220-abe3-33055948ac93"
      },
      "source": [
        "np.vectorize(ImmM)(Immun_memory['idx'])"
      ],
      "execution_count": null,
      "outputs": [
        {
          "output_type": "execute_result",
          "data": {
            "text/plain": [
              "array(['2020-06-22', '2020-05-27', '2020-05-20', '2020-06-04',\n",
              "       '2020-06-08', '2020-06-16', '2020-05-23', '2020-05-25',\n",
              "       '2020-06-07', '2020-06-04', '2020-06-03', '2020-06-03',\n",
              "       '2020-05-26', '2020-06-20', '2020-06-03', '2020-05-28',\n",
              "       '2020-06-07', '2020-05-28', '2020-06-03', '2020-06-03',\n",
              "       '2020-06-03', '2020-06-05', '2020-06-04', '2020-06-03',\n",
              "       '2020-06-03', '2020-06-04', '2020-06-03', '2020-06-04',\n",
              "       '2020-06-04', '2020-06-08', '2020-06-05', '2020-06-12'],\n",
              "      dtype='<U10')"
            ]
          },
          "metadata": {
            "tags": []
          },
          "execution_count": 79
        }
      ]
    },
    {
      "cell_type": "code",
      "metadata": {
        "id": "MaMhhRC0v0Tw"
      },
      "source": [
        "No_immun_memory = pd.DataFrame(Acute_illness, columns=['idx'])"
      ],
      "execution_count": null,
      "outputs": []
    },
    {
      "cell_type": "code",
      "metadata": {
        "id": "xxbss3Xp3Kew"
      },
      "source": [
        "#Когда тест IgM был > 1\n",
        "No_immun_memory['test_day_M'] = np.vectorize(ImmM)(No_immun_memory['idx'])"
      ],
      "execution_count": null,
      "outputs": []
    },
    {
      "cell_type": "code",
      "metadata": {
        "id": "E_n8anq0wWw6"
      },
      "source": [
        "def ImmGM_no ( idx ):\n",
        "  return min(np.hstack([df[(df['idx'] == idx) & (df['IgM'] < 1) & (df['IgG'] < 10)]['get_date_at'], '2050-01-01']))"
      ],
      "execution_count": null,
      "outputs": []
    },
    {
      "cell_type": "code",
      "metadata": {
        "id": "0ygQm-ohw6TJ",
        "colab": {
          "base_uri": "https://localhost:8080/"
        },
        "outputId": "27b6debf-868b-41e1-85b8-1e566140fb27"
      },
      "source": [
        "np.vectorize(ImmGM_no)(No_immun_memory['idx'])"
      ],
      "execution_count": null,
      "outputs": [
        {
          "output_type": "execute_result",
          "data": {
            "text/plain": [
              "array(['2050-01-01', '2050-01-01', '2050-01-01', ..., '2050-01-01',\n",
              "       '2050-01-01', '2050-01-01'], dtype='<U10')"
            ]
          },
          "metadata": {
            "tags": []
          },
          "execution_count": 83
        }
      ]
    },
    {
      "cell_type": "code",
      "metadata": {
        "id": "eOmjVfFt0Ise"
      },
      "source": [
        "#Когда тест IgM < 1 & IgG > 10\n",
        "No_immun_memory['day_M_G'] = np.vectorize(ImmGM_no)(No_immun_memory['idx'])"
      ],
      "execution_count": null,
      "outputs": []
    },
    {
      "cell_type": "code",
      "metadata": {
        "id": "A2Gse0pTiLIP"
      },
      "source": [
        "No_immun_memory = No_immun_memory[No_immun_memory['day_M_G'] != '2050-01-01']"
      ],
      "execution_count": null,
      "outputs": []
    },
    {
      "cell_type": "code",
      "metadata": {
        "id": "3oTQ311siSYw"
      },
      "source": [
        "No_immun_memory = No_immun_memory[No_immun_memory['day_M_G'] > No_immun_memory['test_day_M']]"
      ],
      "execution_count": null,
      "outputs": []
    },
    {
      "cell_type": "code",
      "metadata": {
        "id": "GCz9r6hi8Jdk"
      },
      "source": [
        "pd.DataFrame(No_immun_memory['idx'].unique(), columns=['idx']).to_excel('/content/drive/MyDrive/Диплом/No_immun_memory.xlsx')"
      ],
      "execution_count": null,
      "outputs": []
    },
    {
      "cell_type": "markdown",
      "metadata": {
        "id": "pmuxHnzUZqo2"
      },
      "source": [
        "Lost, группа потерянных из наблюдения"
      ]
    },
    {
      "cell_type": "code",
      "metadata": {
        "id": "ueGeSUU2-LCU"
      },
      "source": [
        "df = pd.read_csv('/content/drive/MyDrive/Диплом/data_for_science (1).csv', sep=';')"
      ],
      "execution_count": null,
      "outputs": []
    },
    {
      "cell_type": "code",
      "metadata": {
        "id": "U-vXZE4RZylz"
      },
      "source": [
        "#из Acute illness те, кто выходят из наблюдения\n",
        "\n",
        "df = df[df['idx'].isin(Acute_illness)]\n",
        "df = df[~df['idx'].isin(Immun_memory['idx'])]\n",
        "df = df[~df['idx'].isin(No_immun_memory['idx'])]"
      ],
      "execution_count": null,
      "outputs": []
    },
    {
      "cell_type": "code",
      "metadata": {
        "id": "jschXW_pteIE"
      },
      "source": [
        "Lost = pd.DataFrame(df, columns=['idx'])"
      ],
      "execution_count": null,
      "outputs": []
    },
    {
      "cell_type": "code",
      "metadata": {
        "id": "doJ2b79Z83Vc"
      },
      "source": [
        "pd.DataFrame(Lost['idx'].unique(), columns=['idx']).to_excel('/content/drive/MyDrive/Диплом/Lost.xlsx')"
      ],
      "execution_count": null,
      "outputs": []
    },
    {
      "cell_type": "code",
      "metadata": {
        "id": "P14QIdm3_Scw"
      },
      "source": [],
      "execution_count": null,
      "outputs": []
    }
  ]
}